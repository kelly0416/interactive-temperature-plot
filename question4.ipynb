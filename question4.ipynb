{
 "cells": [
  {
   "cell_type": "code",
   "execution_count": 2,
   "metadata": {},
   "outputs": [],
   "source": [
    "import pandas as pd\n",
    "import numpy as np\n",
    "import matplotlib.pyplot as plt\n",
    "import seaborn as sns"
   ]
  },
  {
   "cell_type": "markdown",
   "metadata": {},
   "source": [
    "#### Load data"
   ]
  },
  {
   "cell_type": "code",
   "execution_count": 3,
   "metadata": {},
   "outputs": [],
   "source": [
    "data = pd.read_csv('weather.csv')"
   ]
  },
  {
   "cell_type": "code",
   "execution_count": 4,
   "metadata": {},
   "outputs": [],
   "source": [
    "# rename Ktemp and modify the values \n",
    "data['Ftemp'] = (data['Ktemp'] - 273.15)*9/5 + 32"
   ]
  },
  {
   "cell_type": "code",
   "execution_count": 5,
   "metadata": {},
   "outputs": [
    {
     "data": {
      "text/html": [
       "<div>\n",
       "<style scoped>\n",
       "    .dataframe tbody tr th:only-of-type {\n",
       "        vertical-align: middle;\n",
       "    }\n",
       "\n",
       "    .dataframe tbody tr th {\n",
       "        vertical-align: top;\n",
       "    }\n",
       "\n",
       "    .dataframe thead th {\n",
       "        text-align: right;\n",
       "    }\n",
       "</style>\n",
       "<table border=\"1\" class=\"dataframe\">\n",
       "  <thead>\n",
       "    <tr style=\"text-align: right;\">\n",
       "      <th></th>\n",
       "      <th>time</th>\n",
       "      <th>longitude</th>\n",
       "      <th>latitude</th>\n",
       "      <th>Ktemp</th>\n",
       "      <th>Ftemp</th>\n",
       "    </tr>\n",
       "  </thead>\n",
       "  <tbody>\n",
       "    <tr>\n",
       "      <th>0</th>\n",
       "      <td>1950-01-01 9:00:00</td>\n",
       "      <td>286</td>\n",
       "      <td>40.75</td>\n",
       "      <td>274.39734</td>\n",
       "      <td>34.245212</td>\n",
       "    </tr>\n",
       "    <tr>\n",
       "      <th>1</th>\n",
       "      <td>1950-01-02 9:00:00</td>\n",
       "      <td>286</td>\n",
       "      <td>40.75</td>\n",
       "      <td>277.07593</td>\n",
       "      <td>39.066674</td>\n",
       "    </tr>\n",
       "    <tr>\n",
       "      <th>2</th>\n",
       "      <td>1950-01-03 9:00:00</td>\n",
       "      <td>286</td>\n",
       "      <td>40.75</td>\n",
       "      <td>280.80090</td>\n",
       "      <td>45.771620</td>\n",
       "    </tr>\n",
       "    <tr>\n",
       "      <th>3</th>\n",
       "      <td>1950-01-04 9:00:00</td>\n",
       "      <td>286</td>\n",
       "      <td>40.75</td>\n",
       "      <td>287.14010</td>\n",
       "      <td>57.182180</td>\n",
       "    </tr>\n",
       "    <tr>\n",
       "      <th>4</th>\n",
       "      <td>1950-01-05 9:00:00</td>\n",
       "      <td>286</td>\n",
       "      <td>40.75</td>\n",
       "      <td>285.65262</td>\n",
       "      <td>54.504716</td>\n",
       "    </tr>\n",
       "  </tbody>\n",
       "</table>\n",
       "</div>"
      ],
      "text/plain": [
       "                 time  longitude  latitude      Ktemp      Ftemp\n",
       "0  1950-01-01 9:00:00        286     40.75  274.39734  34.245212\n",
       "1  1950-01-02 9:00:00        286     40.75  277.07593  39.066674\n",
       "2  1950-01-03 9:00:00        286     40.75  280.80090  45.771620\n",
       "3  1950-01-04 9:00:00        286     40.75  287.14010  57.182180\n",
       "4  1950-01-05 9:00:00        286     40.75  285.65262  54.504716"
      ]
     },
     "execution_count": 5,
     "metadata": {},
     "output_type": "execute_result"
    }
   ],
   "source": [
    "data.head()"
   ]
  },
  {
   "cell_type": "markdown",
   "metadata": {},
   "source": [
    "#### Part A"
   ]
  },
  {
   "cell_type": "code",
   "execution_count": 6,
   "metadata": {},
   "outputs": [],
   "source": [
    "data= data.copy()\n",
    "data['time'] = pd.to_datetime(data['time'])\n",
    "data['year'] = data['time'].dt.year\n",
    "data['month'] = data['time'].dt.month"
   ]
  },
  {
   "cell_type": "code",
   "execution_count": 7,
   "metadata": {},
   "outputs": [
    {
     "name": "stdout",
     "output_type": "stream",
     "text": [
      "Defaulting to user installation because normal site-packages is not writeable\n",
      "Requirement already satisfied: ipywidgets in /Users/mac/Library/Python/3.9/lib/python/site-packages (8.1.5)\n",
      "Requirement already satisfied: comm>=0.1.3 in /Users/mac/Library/Python/3.9/lib/python/site-packages (from ipywidgets) (0.2.2)\n",
      "Requirement already satisfied: ipython>=6.1.0 in /Users/mac/Library/Python/3.9/lib/python/site-packages (from ipywidgets) (8.18.1)\n",
      "Requirement already satisfied: traitlets>=4.3.1 in /Users/mac/Library/Python/3.9/lib/python/site-packages (from ipywidgets) (5.14.3)\n",
      "Requirement already satisfied: widgetsnbextension~=4.0.12 in /Users/mac/Library/Python/3.9/lib/python/site-packages (from ipywidgets) (4.0.13)\n",
      "Requirement already satisfied: jupyterlab-widgets~=3.0.12 in /Users/mac/Library/Python/3.9/lib/python/site-packages (from ipywidgets) (3.0.13)\n",
      "Requirement already satisfied: decorator in /Users/mac/Library/Python/3.9/lib/python/site-packages (from ipython>=6.1.0->ipywidgets) (5.1.1)\n",
      "Requirement already satisfied: jedi>=0.16 in /Users/mac/Library/Python/3.9/lib/python/site-packages (from ipython>=6.1.0->ipywidgets) (0.19.1)\n",
      "Requirement already satisfied: matplotlib-inline in /Users/mac/Library/Python/3.9/lib/python/site-packages (from ipython>=6.1.0->ipywidgets) (0.1.7)\n",
      "Requirement already satisfied: prompt-toolkit<3.1.0,>=3.0.41 in /Users/mac/Library/Python/3.9/lib/python/site-packages (from ipython>=6.1.0->ipywidgets) (3.0.48)\n",
      "Requirement already satisfied: pygments>=2.4.0 in /Users/mac/Library/Python/3.9/lib/python/site-packages (from ipython>=6.1.0->ipywidgets) (2.18.0)\n",
      "Requirement already satisfied: stack-data in /Users/mac/Library/Python/3.9/lib/python/site-packages (from ipython>=6.1.0->ipywidgets) (0.6.3)\n",
      "Requirement already satisfied: typing-extensions in /Users/mac/Library/Python/3.9/lib/python/site-packages (from ipython>=6.1.0->ipywidgets) (4.12.2)\n",
      "Requirement already satisfied: exceptiongroup in /Users/mac/Library/Python/3.9/lib/python/site-packages (from ipython>=6.1.0->ipywidgets) (1.2.2)\n",
      "Requirement already satisfied: pexpect>4.3 in /Users/mac/Library/Python/3.9/lib/python/site-packages (from ipython>=6.1.0->ipywidgets) (4.9.0)\n",
      "Requirement already satisfied: parso<0.9.0,>=0.8.3 in /Users/mac/Library/Python/3.9/lib/python/site-packages (from jedi>=0.16->ipython>=6.1.0->ipywidgets) (0.8.4)\n",
      "Requirement already satisfied: ptyprocess>=0.5 in /Users/mac/Library/Python/3.9/lib/python/site-packages (from pexpect>4.3->ipython>=6.1.0->ipywidgets) (0.7.0)\n",
      "Requirement already satisfied: wcwidth in /Users/mac/Library/Python/3.9/lib/python/site-packages (from prompt-toolkit<3.1.0,>=3.0.41->ipython>=6.1.0->ipywidgets) (0.2.13)\n",
      "Requirement already satisfied: executing>=1.2.0 in /Users/mac/Library/Python/3.9/lib/python/site-packages (from stack-data->ipython>=6.1.0->ipywidgets) (2.1.0)\n",
      "Requirement already satisfied: asttokens>=2.1.0 in /Users/mac/Library/Python/3.9/lib/python/site-packages (from stack-data->ipython>=6.1.0->ipywidgets) (2.4.1)\n",
      "Requirement already satisfied: pure-eval in /Users/mac/Library/Python/3.9/lib/python/site-packages (from stack-data->ipython>=6.1.0->ipywidgets) (0.2.3)\n",
      "Requirement already satisfied: six>=1.12.0 in /Library/Developer/CommandLineTools/Library/Frameworks/Python3.framework/Versions/3.9/lib/python3.9/site-packages (from asttokens>=2.1.0->stack-data->ipython>=6.1.0->ipywidgets) (1.15.0)\n",
      "\n",
      "\u001b[1m[\u001b[0m\u001b[34;49mnotice\u001b[0m\u001b[1;39;49m]\u001b[0m\u001b[39;49m A new release of pip is available: \u001b[0m\u001b[31;49m25.0\u001b[0m\u001b[39;49m -> \u001b[0m\u001b[32;49m25.0.1\u001b[0m\n",
      "\u001b[1m[\u001b[0m\u001b[34;49mnotice\u001b[0m\u001b[1;39;49m]\u001b[0m\u001b[39;49m To update, run: \u001b[0m\u001b[32;49m/Library/Developer/CommandLineTools/usr/bin/python3 -m pip install --upgrade pip\u001b[0m\n",
      "Note: you may need to restart the kernel to use updated packages.\n"
     ]
    }
   ],
   "source": [
    "pip install ipywidgets"
   ]
  },
  {
   "cell_type": "markdown",
   "metadata": {},
   "source": [
    "possible improvement of this plot\n",
    "* color of the line "
   ]
  },
  {
   "cell_type": "code",
   "execution_count": 8,
   "metadata": {},
   "outputs": [
    {
     "name": "stdout",
     "output_type": "stream",
     "text": [
      "Defaulting to user installation because normal site-packages is not writeable\n",
      "Requirement already satisfied: plotly in /Users/mac/Library/Python/3.9/lib/python/site-packages (6.0.0)\n",
      "Requirement already satisfied: narwhals>=1.15.1 in /Users/mac/Library/Python/3.9/lib/python/site-packages (from plotly) (1.29.1)\n",
      "Requirement already satisfied: packaging in /Users/mac/Library/Python/3.9/lib/python/site-packages (from plotly) (24.1)\n",
      "\n",
      "\u001b[1m[\u001b[0m\u001b[34;49mnotice\u001b[0m\u001b[1;39;49m]\u001b[0m\u001b[39;49m A new release of pip is available: \u001b[0m\u001b[31;49m25.0\u001b[0m\u001b[39;49m -> \u001b[0m\u001b[32;49m25.0.1\u001b[0m\n",
      "\u001b[1m[\u001b[0m\u001b[34;49mnotice\u001b[0m\u001b[1;39;49m]\u001b[0m\u001b[39;49m To update, run: \u001b[0m\u001b[32;49m/Library/Developer/CommandLineTools/usr/bin/python3 -m pip install --upgrade pip\u001b[0m\n",
      "Note: you may need to restart the kernel to use updated packages.\n"
     ]
    }
   ],
   "source": [
    "pip install plotly"
   ]
  },
  {
   "cell_type": "code",
   "execution_count": 9,
   "metadata": {},
   "outputs": [
    {
     "name": "stdout",
     "output_type": "stream",
     "text": [
      "Defaulting to user installation because normal site-packages is not writeable\n",
      "Requirement already satisfied: nbformat in /Users/mac/Library/Python/3.9/lib/python/site-packages (5.10.4)\n",
      "Requirement already satisfied: fastjsonschema>=2.15 in /Users/mac/Library/Python/3.9/lib/python/site-packages (from nbformat) (2.21.1)\n",
      "Requirement already satisfied: jsonschema>=2.6 in /Users/mac/Library/Python/3.9/lib/python/site-packages (from nbformat) (4.23.0)\n",
      "Requirement already satisfied: jupyter-core!=5.0.*,>=4.12 in /Users/mac/Library/Python/3.9/lib/python/site-packages (from nbformat) (5.7.2)\n",
      "Requirement already satisfied: traitlets>=5.1 in /Users/mac/Library/Python/3.9/lib/python/site-packages (from nbformat) (5.14.3)\n",
      "Requirement already satisfied: attrs>=22.2.0 in /Users/mac/Library/Python/3.9/lib/python/site-packages (from jsonschema>=2.6->nbformat) (24.2.0)\n",
      "Requirement already satisfied: jsonschema-specifications>=2023.03.6 in /Users/mac/Library/Python/3.9/lib/python/site-packages (from jsonschema>=2.6->nbformat) (2024.10.1)\n",
      "Requirement already satisfied: referencing>=0.28.4 in /Users/mac/Library/Python/3.9/lib/python/site-packages (from jsonschema>=2.6->nbformat) (0.36.2)\n",
      "Requirement already satisfied: rpds-py>=0.7.1 in /Users/mac/Library/Python/3.9/lib/python/site-packages (from jsonschema>=2.6->nbformat) (0.23.1)\n",
      "Requirement already satisfied: platformdirs>=2.5 in /Users/mac/Library/Python/3.9/lib/python/site-packages (from jupyter-core!=5.0.*,>=4.12->nbformat) (4.3.6)\n",
      "Requirement already satisfied: typing-extensions>=4.4.0 in /Users/mac/Library/Python/3.9/lib/python/site-packages (from referencing>=0.28.4->jsonschema>=2.6->nbformat) (4.12.2)\n",
      "\n",
      "\u001b[1m[\u001b[0m\u001b[34;49mnotice\u001b[0m\u001b[1;39;49m]\u001b[0m\u001b[39;49m A new release of pip is available: \u001b[0m\u001b[31;49m25.0\u001b[0m\u001b[39;49m -> \u001b[0m\u001b[32;49m25.0.1\u001b[0m\n",
      "\u001b[1m[\u001b[0m\u001b[34;49mnotice\u001b[0m\u001b[1;39;49m]\u001b[0m\u001b[39;49m To update, run: \u001b[0m\u001b[32;49m/Library/Developer/CommandLineTools/usr/bin/python3 -m pip install --upgrade pip\u001b[0m\n"
     ]
    }
   ],
   "source": [
    "!pip install --upgrade nbformat\n"
   ]
  },
  {
   "cell_type": "code",
   "execution_count": 9,
   "metadata": {},
   "outputs": [
    {
     "name": "stdout",
     "output_type": "stream",
     "text": [
      "Saved: temperature_plot_1950.html\n",
      "Saved: temperature_plot_1951.html\n",
      "Saved: temperature_plot_1952.html\n",
      "Saved: temperature_plot_1953.html\n",
      "Saved: temperature_plot_1954.html\n",
      "Saved: temperature_plot_1955.html\n",
      "Saved: temperature_plot_1956.html\n",
      "Saved: temperature_plot_1957.html\n",
      "Saved: temperature_plot_1958.html\n",
      "Saved: temperature_plot_1959.html\n",
      "Saved: temperature_plot_1960.html\n",
      "Saved: temperature_plot_1961.html\n",
      "Saved: temperature_plot_1962.html\n",
      "Saved: temperature_plot_1963.html\n",
      "Saved: temperature_plot_1964.html\n",
      "Saved: temperature_plot_1965.html\n",
      "Saved: temperature_plot_1966.html\n",
      "Saved: temperature_plot_1967.html\n",
      "Saved: temperature_plot_1968.html\n",
      "Saved: temperature_plot_1969.html\n",
      "Saved: temperature_plot_1970.html\n",
      "Saved: temperature_plot_1971.html\n",
      "Saved: temperature_plot_1972.html\n",
      "Saved: temperature_plot_1973.html\n",
      "Saved: temperature_plot_1974.html\n",
      "Saved: temperature_plot_1975.html\n",
      "Saved: temperature_plot_1976.html\n",
      "Saved: temperature_plot_1977.html\n",
      "Saved: temperature_plot_1978.html\n",
      "Saved: temperature_plot_1979.html\n",
      "Saved: temperature_plot_1980.html\n",
      "Saved: temperature_plot_1981.html\n",
      "Saved: temperature_plot_1982.html\n",
      "Saved: temperature_plot_1983.html\n",
      "Saved: temperature_plot_1984.html\n",
      "Saved: temperature_plot_1985.html\n",
      "Saved: temperature_plot_1986.html\n",
      "Saved: temperature_plot_1987.html\n",
      "Saved: temperature_plot_1988.html\n",
      "Saved: temperature_plot_1989.html\n",
      "Saved: temperature_plot_1990.html\n",
      "Saved: temperature_plot_1991.html\n",
      "Saved: temperature_plot_1992.html\n",
      "Saved: temperature_plot_1993.html\n",
      "Saved: temperature_plot_1994.html\n",
      "Saved: temperature_plot_1995.html\n",
      "Saved: temperature_plot_1996.html\n",
      "Saved: temperature_plot_1997.html\n",
      "Saved: temperature_plot_1998.html\n",
      "Saved: temperature_plot_1999.html\n",
      "Saved: temperature_plot_2000.html\n",
      "Saved: temperature_plot_2001.html\n",
      "Saved: temperature_plot_2002.html\n",
      "Saved: temperature_plot_2003.html\n",
      "Saved: temperature_plot_2004.html\n",
      "Saved: temperature_plot_2005.html\n",
      "Saved: temperature_plot_2006.html\n",
      "Saved: temperature_plot_2007.html\n",
      "Saved: temperature_plot_2008.html\n",
      "Saved: temperature_plot_2009.html\n",
      "Saved: temperature_plot_2010.html\n",
      "Saved: temperature_plot_2011.html\n",
      "Saved: temperature_plot_2012.html\n",
      "Saved: temperature_plot_2013.html\n",
      "Saved: temperature_plot_2014.html\n",
      "Saved: temperature_plot_2015.html\n",
      "Saved: temperature_plot_2016.html\n",
      "Saved: temperature_plot_2017.html\n",
      "Saved: temperature_plot_2018.html\n",
      "Saved: temperature_plot_2019.html\n",
      "Saved: temperature_plot_2020.html\n",
      "Saved: temperature_plot_2021.html\n"
     ]
    }
   ],
   "source": [
    "import plotly.express as px\n",
    "import plotly.io as pio\n",
    "import pandas as pd\n",
    "\n",
    "# Assume `data` is your dataframe\n",
    "# Compute average temperature per month\n",
    "monthly_avg = data.groupby(['year', 'month'])['Ftemp'].mean().reset_index()\n",
    "\n",
    "# Function to generate the Plotly figure for a given year\n",
    "def plot_temperature(year):\n",
    "    subset = monthly_avg[monthly_avg[\"year\"] == year]\n",
    "    \n",
    "    # Ensure there's data for the selected year\n",
    "    if subset.empty:\n",
    "        print(f\"Warning: No data available for year {year}\")\n",
    "        return None\n",
    "\n",
    "    # Create the Plotly figure\n",
    "    fig = px.line(\n",
    "        subset, \n",
    "        x='month', \n",
    "        y='Ftemp', \n",
    "        title=f'Average Monthly Temperature in {year}', \n",
    "        labels={'month': 'Month', 'Ftemp': 'Avg Temperature (°F)'}\n",
    "    )\n",
    "\n",
    "    fig.update_layout(\n",
    "        xaxis=dict(\n",
    "            tickmode='array',\n",
    "            tickvals=list(range(1, 13)),\n",
    "            ticktext=['Jan', 'Feb', 'Mar', 'Apr', 'May', 'Jun', 'Jul', 'Aug', 'Sep', 'Oct', 'Nov', 'Dec']\n",
    "        )\n",
    "    )\n",
    "\n",
    "    return fig\n",
    "\n",
    "# Generate and save HTML files for all years\n",
    "for year in sorted(monthly_avg[\"year\"].unique()):\n",
    "    fig = plot_temperature(year)\n",
    "    \n",
    "    if fig:\n",
    "        filename = f\"temperature_plot_{year}.html\"\n",
    "        pio.write_html(fig, filename, full_html=True, include_plotlyjs='cdn')\n",
    "        print(f\"Saved: {filename}\")\n",
    "    else:\n",
    "        print(f\"Skipping year {year} (no data).\")\n"
   ]
  },
  {
   "cell_type": "markdown",
   "metadata": {},
   "source": [
    "#### Part B"
   ]
  },
  {
   "cell_type": "code",
   "execution_count": null,
   "metadata": {},
   "outputs": [
    {
     "name": "stdout",
     "output_type": "stream",
     "text": [
      "Year 1953  is the first year with an average temperature above 55°F.\n"
     ]
    }
   ],
   "source": [
    "subset = data.groupby(\"year\").mean().reset_index()\n",
    "for i in range(1, len(subset)):\n",
    "    if subset.loc[i, \"Ftemp\"] > 55:\n",
    "        print(f\"Year {subset.loc[i, 'year']}  is the first year with an average temperature above 55°F.\")\n",
    "        break\n",
    "    "
   ]
  },
  {
   "cell_type": "code",
   "execution_count": null,
   "metadata": {},
   "outputs": [
    {
     "data": {
      "image/png": "[encoded data removed]",
      "text/plain": [
       "<Figure size 1000x500 with 1 Axes>"
      ]
     },
     "metadata": {},
     "output_type": "display_data"
    }
   ],
   "source": [
    "plt.figure(figsize=(10, 5))\n",
    "plt.plot(subset[\"year\"], subset[\"Ftemp\"], marker='o', linestyle='-', color='blue')\n",
    "plt.axhline(y=55, color='red', linestyle='--')\n",
    "plt.xlabel(\"Year\")\n",
    "plt.ylabel(\"Avg Temperature (°F)\")\n",
    "plt.title(\"Average Annual Temperature\")\n",
    "plt.grid(True)\n",
    "plt.show()"
   ]
  },
  {
   "cell_type": "markdown",
   "metadata": {},
   "source": [
    "#### Part C"
   ]
  },
  {
   "cell_type": "code",
   "execution_count": null,
   "metadata": {},
   "outputs": [],
   "source": []
  }
 ],
 "metadata": {
  "kernelspec": {
   "display_name": "Python 3",
   "language": "python",
   "name": "python3"
  },
  "language_info": {
   "codemirror_mode": {
    "name": "ipython",
    "version": 3
   },
   "file_extension": ".py",
   "mimetype": "text/x-python",
   "name": "python",
   "nbconvert_exporter": "python",
   "pygments_lexer": "ipython3",
   "version": "3.9.6"
  }
 },
 "nbformat": 4,
 "nbformat_minor": 2
}
